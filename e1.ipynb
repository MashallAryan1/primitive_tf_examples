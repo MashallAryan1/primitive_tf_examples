{
 "cells": [
  {
   "cell_type": "code",
   "execution_count": 10,
   "metadata": {
    "collapsed": false
   },
   "outputs": [],
   "source": [
    "%matplotlib inline\n",
    "import tensorflow as tf\n",
    "import numpy as np\n",
    "import matplotlib.pyplot as plt"
   ]
  },
  {
   "cell_type": "code",
   "execution_count": 12,
   "metadata": {
    "collapsed": false,
    "scrolled": true
   },
   "outputs": [
    {
     "name": "stdout",
     "output_type": "stream",
     "text": [
      "[ 0.          0.2631579   0.52631581  0.78947371  1.05263162  1.31578946\n",
      "  1.57894742  1.84210527  2.10526323  2.36842108  2.63157892  2.89473677\n",
      "  3.15789485  3.42105269  3.68421054  3.94736838  4.21052647  4.47368431\n",
      "  4.73684216  5.        ]\n"
     ]
    },
    {
     "data": {
      "text/plain": [
       "[<matplotlib.lines.Line2D at 0x7f09fc1a88d0>]"
      ]
     },
     "execution_count": 12,
     "metadata": {},
     "output_type": "execute_result"
    },
    {
     "data": {
      "image/png": "[encoded data removed]",
      "text/plain": [
       "<matplotlib.figure.Figure at 0x7f09fc7a8690>"
      ]
     },
     "metadata": {},
     "output_type": "display_data"
    }
   ],
   "source": [
    "#construct your model \n",
    "\n",
    "W = tf.constant([0.5])\n",
    "b = tf.constant([-1.0])\n",
    "X = tf.placeholder(tf.float32, [None])\n",
    "\n",
    "one_d_line = W * X + b\n",
    "\n",
    "\n",
    "# add an op to initialize all variables in the model.\n",
    "init_op = tf.global_variables_initializer()\n",
    "\n",
    "#run the initilizer\n",
    "with tf.Session() as sess:\n",
    "    sess.run(init_op)\n",
    "\n",
    "    \n",
    "#run the graph\n",
    "x = np.linspace(0,10,20)\n",
    "with tf.Session() as sess:\n",
    "    fx = sess.run(one_d_line,feed_dict={X: x})\n",
    "print fx    \n",
    "\n",
    "plt.xlim(0, 10)\n",
    "plt.ylim(0, 10)\n",
    "\n",
    "\n",
    "plt.plot(x, fx)\n",
    "plt.plot(x, fx,'o')\n",
    "#plt.show(True)"
   ]
  },
  {
   "cell_type": "code",
   "execution_count": null,
   "metadata": {
    "collapsed": true
   },
   "outputs": [],
   "source": [
    "def variable_summaries(var):\n",
    "  \"\"\"Attach a lot of summaries to a Tensor (for TensorBoard visualization).\"\"\"\n",
    "  with tf.name_scope('summaries'):\n",
    "    mean = tf.reduce_mean(var)\n",
    "    tf.summary.scalar('mean', mean)\n",
    "    with tf.name_scope('stddev'):\n",
    "      stddev = tf.sqrt(tf.reduce_mean(tf.square(var - mean)))\n",
    "    tf.summary.scalar('stddev', stddev)\n",
    "    tf.summary.scalar('max', tf.reduce_max(var))\n",
    "    tf.summary.scalar('min', tf.reduce_min(var))\n",
    "    tf.summary.histogram('histogram', var)\n"
   ]
  },
  {
   "cell_type": "code",
   "execution_count": null,
   "metadata": {
    "collapsed": true
   },
   "outputs": [],
   "source": [
    "#construct your model \n",
    "\n",
    "W = tf.constant([0.5])\n",
    "b = tf.constant([0.0])\n",
    "X = tf.placeholder(tf.float32, [None])\n",
    "linear_model = W * X + b\n",
    "\n",
    "\n",
    "tf.summary.scalar('W', stddev)\n",
    "tf.summary.scalar('b', tf.reduce_max(var))\n",
    "tf.summary.scalar('X', tf.reduce_min(var))\n",
    "\n",
    "\n",
    "merged = tf.summary.merge_all()\n",
    "train_writer = tf.summary.FileWriter('/train',\n",
    "                                      sess.graph)\n",
    "\n",
    "\n",
    "# add an op to initialize all variables in the model.\n",
    "init = tf.global_variables_initializer()\n",
    "\n",
    "#run the initilizer\n",
    "with tf.Session() as sess:\n",
    "    sess.run(init)\n",
    "\n",
    "    \n",
    "#run the graph\n",
    "x = np.linspace(0,10,20)\n",
    "with tf.Session() as sess:\n",
    "    fx = sess.run(linear_model,feed_dict={X: x})\n",
    "print fx    \n",
    "\n",
    "plt.xlim(0, 10)\n",
    "plt.ylim(0, 10)\n",
    "\n",
    "\n",
    "plt.plot(x, fx)\n",
    "plt.plot(x, fx,'o')\n",
    "#plt.show(True)"
   ]
  },
  {
   "cell_type": "code",
   "execution_count": null,
   "metadata": {
    "collapsed": true
   },
   "outputs": [],
   "source": []
  }
 ],
 "metadata": {
  "kernelspec": {
   "display_name": "Python 2",
   "language": "python",
   "name": "python2"
  },
  "language_info": {
   "codemirror_mode": {
    "name": "ipython",
    "version": 2
   },
   "file_extension": ".py",
   "mimetype": "text/x-python",
   "name": "python",
   "nbconvert_exporter": "python",
   "pygments_lexer": "ipython2",
   "version": "2.7.12+"
  }
 },
 "nbformat": 4,
 "nbformat_minor": 0
}
